{
 "cells": [
  {
   "cell_type": "code",
   "execution_count": 84,
   "id": "5f0ec2a7",
   "metadata": {},
   "outputs": [],
   "source": [
    "# import library functions\n",
    "\n",
    "import pandas as pd\n",
    "import numpy as np\n",
    "import matplotlib.pyplot as plt\n",
    "from sklearn.preprocessing import StandardScaler\n",
    "from sklearn.model_selection import cross_val_score\n",
    "\n",
    "from sklearn.metrics import accuracy_score, classification_report, confusion_matrix"
   ]
  },
  {
   "cell_type": "code",
   "execution_count": 65,
   "id": "c12e5183",
   "metadata": {},
   "outputs": [
    {
     "name": "stdout",
     "output_type": "stream",
     "text": [
      "Requirement already satisfied: fast_ml in c:\\users\\e135634\\anaconda3\\lib\\site-packages (3.68)\n"
     ]
    }
   ],
   "source": [
    "!pip install fast_ml\n",
    "from fast_ml.model_development import train_valid_test_split"
   ]
  },
  {
   "cell_type": "code",
   "execution_count": 66,
   "id": "ce93efda",
   "metadata": {},
   "outputs": [],
   "source": [
    "df = pd.read_csv (r'C:\\Users\\e135634\\OneDrive - Blue Cross Blue Shield of Michigan\\Desktop\\Test Folder\\heart.csv')"
   ]
  },
  {
   "cell_type": "code",
   "execution_count": 67,
   "id": "888a4027",
   "metadata": {},
   "outputs": [],
   "source": [
    "df_dummies = pd.get_dummies(df, columns = ['Sex' , 'ExerciseAngina' , 'ChestPainType' , 'RestingECG' , 'ST_Slope'])\n",
    "df_dummies = df_dummies.reindex(columns = [col for col in df_dummies.columns if col != 'HeartDisease'] + ['HeartDisease'])\n",
    "\n",
    "df = df_dummies.astype({\"Age\" : 'float' , \"RestingBP\" : 'float' ,\"Cholesterol\" : 'float' ,\"FastingBS\" : 'float' ,\n",
    "                                \"MaxHR\" : 'float' ,\"Sex_F\" : 'float' ,\"Sex_M\" : 'float' ,\"ExerciseAngina_N\" : 'float' ,\n",
    "                                \"ExerciseAngina_Y\" : 'float' ,\"ChestPainType_ASY\" : 'float' ,\"ChestPainType_ATA\" : 'float' ,\n",
    "                                \"ChestPainType_NAP\" : 'float' ,\"ChestPainType_TA\" : 'float' ,\"RestingECG_LVH\" : 'float' ,\n",
    "                                \"RestingECG_Normal\" : 'float' ,\"RestingECG_ST\" : 'float' ,\"ST_Slope_Down\" : 'float' ,\n",
    "                                \"ST_Slope_Flat\" : 'float' ,\"ST_Slope_Up\" : 'float',\"HeartDisease\" : 'int'})\n",
    "\n",
    "df = df[df.Cholesterol > 0]"
   ]
  },
  {
   "cell_type": "code",
   "execution_count": 85,
   "id": "69718db6",
   "metadata": {},
   "outputs": [],
   "source": [
    "# Adding a 6-2-2 split of the data into Training, Testing, and Validation Sets to fine tune hyper parameter k\n",
    "X = df.iloc[:, :-1]\n",
    "y = df.iloc[: , -1]\n",
    "\n",
    "X_train, y_train, X_valid, y_valid, X_test, y_test = train_valid_test_split(df, target = 'HeartDisease', \n",
    "                                                                            train_size=0.6, valid_size=0.2, test_size=0.2)"
   ]
  },
  {
   "cell_type": "code",
   "execution_count": 86,
   "id": "357713ef",
   "metadata": {},
   "outputs": [],
   "source": [
    "scaler = StandardScaler()\n",
    "X_train = scaler.fit_transform(X_train)\n",
    "X_valid = scaler.fit_transform(X_valid)\n",
    "X_test = scaler.fit_transform(X_test)"
   ]
  },
  {
   "cell_type": "code",
   "execution_count": 87,
   "id": "b92e6797",
   "metadata": {},
   "outputs": [],
   "source": [
    "# this is the distance metric I will use as a helper function below in the KNN class \n",
    "\n",
    "def euclidean(point, data):\n",
    "    return np.sqrt(np.sum((point - data)**2, axis=1))"
   ]
  },
  {
   "cell_type": "code",
   "execution_count": 88,
   "id": "dafbd33d",
   "metadata": {},
   "outputs": [],
   "source": [
    "# this helper function is used in the predict definition below to help distinguish majority vote (most common class label)\n",
    "# I was unable to figure out how to use the Counter package from eht collections library without causing error\n",
    "\n",
    "def most_common(lst):\n",
    "    return max(set(lst), key=lst.count)"
   ]
  },
  {
   "cell_type": "code",
   "execution_count": 89,
   "id": "72250d8d",
   "metadata": {},
   "outputs": [],
   "source": [
    "class KNN:\n",
    "    \n",
    "    def __init__(self, k=5, dist_metric=euclidean):\n",
    "        self.k = k\n",
    "        self.dist_metric = dist_metric\n",
    "        \n",
    "    def fit(self, X_train, y_train):\n",
    "        self.X_train = X_train\n",
    "        self.y_train = y_train\n",
    "        \n",
    "    def predict(self, X_test):\n",
    "        neighbors = []\n",
    "        for x in X_test:\n",
    "            distances = self.dist_metric(x, self.X_train)\n",
    "            y_sorted = [y for _, y in sorted(zip(distances, self.y_train))]\n",
    "            neighbors.append(y_sorted[:self.k])\n",
    "        return list(map(most_common, neighbors))\n",
    "    \n",
    "    def evaluate(self, X_test, y_test):\n",
    "        y_pred = self.predict(X_test)\n",
    "        accuracy = sum(y_pred == y_test) / len(y_test)\n",
    "        return accuracy"
   ]
  },
  {
   "cell_type": "code",
   "execution_count": 90,
   "id": "e04b5743",
   "metadata": {},
   "outputs": [],
   "source": [
    "# fine tune hyper parameter k on validation data for k values 1 - 30 to see which one gives us the best results\n",
    "\n",
    "accuracies = []\n",
    "ks = range(1, 30)\n",
    "for k in ks:\n",
    "    model = KNN(k=k)\n",
    "    model.fit(X_valid, y_valid)\n",
    "    accuracy = model.evaluate(X_test, y_test)\n",
    "    accuracies.append(accuracy)"
   ]
  },
  {
   "cell_type": "code",
   "execution_count": 91,
   "id": "6230c05b",
   "metadata": {},
   "outputs": [
    {
     "data": {
      "image/png": "[encoded data removed]",
      "text/plain": [
       "<Figure size 432x288 with 1 Axes>"
      ]
     },
     "metadata": {
      "needs_background": "light"
     },
     "output_type": "display_data"
    }
   ],
   "source": [
    "# make a visual plot showing the best k parameter to use based on validation set\n",
    "\n",
    "fig, ax = plt.subplots()\n",
    "ax.plot(ks, accuracies)\n",
    "ax.set(xlabel=\"KNN\",\n",
    "       ylabel=\"Accuracy\",\n",
    "       title=\"KNN Performance (Validation Set)\")\n",
    "plt.show()"
   ]
  },
  {
   "cell_type": "code",
   "execution_count": 92,
   "id": "9b829f5c",
   "metadata": {},
   "outputs": [
    {
     "data": {
      "image/png": "[encoded data removed]",
      "text/plain": [
       "<Figure size 432x288 with 1 Axes>"
      ]
     },
     "metadata": {
      "needs_background": "light"
     },
     "output_type": "display_data"
    }
   ],
   "source": [
    "# now, I will take a look at fine tuning hyper parameter K using training set to see if results are the same\n",
    "\n",
    "accuracies = []\n",
    "ks = range(1, 30)\n",
    "for k in ks:\n",
    "    model = KNN(k=k)\n",
    "    model.fit(X_train, y_train)\n",
    "    accuracy = model.evaluate(X_test, y_test)\n",
    "    accuracies.append(accuracy)\n",
    "    \n",
    "fig, ax = plt.subplots()\n",
    "ax.plot(ks, accuracies)\n",
    "ax.set(xlabel=\"KNN\",\n",
    "       ylabel=\"Accuracy\",\n",
    "       title=\"KNN Performance (Training Set)\")\n",
    "plt.show()"
   ]
  },
  {
   "cell_type": "code",
   "execution_count": 93,
   "id": "54122b01",
   "metadata": {},
   "outputs": [],
   "source": [
    "# based on the two separate sets (validation and training), there is a vast difference between\n",
    "# validation of 21 and training of 7, so I will use both below to to see which one gets me the highest accuracy"
   ]
  },
  {
   "cell_type": "code",
   "execution_count": 94,
   "id": "4ac3bcd7",
   "metadata": {},
   "outputs": [
    {
     "name": "stdout",
     "output_type": "stream",
     "text": [
      "[[71 12]\n",
      " [12 55]]\n",
      "0.84\n",
      "              precision    recall  f1-score   support\n",
      "\n",
      "           0       0.86      0.86      0.86        83\n",
      "           1       0.82      0.82      0.82        67\n",
      "\n",
      "    accuracy                           0.84       150\n",
      "   macro avg       0.84      0.84      0.84       150\n",
      "weighted avg       0.84      0.84      0.84       150\n",
      "\n"
     ]
    }
   ],
   "source": [
    "# use the best k parameter above to plug into my model belowe for evaluation\n",
    "\n",
    "k = 21\n",
    "\n",
    "model = KNN(k = k)\n",
    "model.fit(X_train , y_train)\n",
    "predictions = model.predict(X_test)\n",
    "\n",
    "print(confusion_matrix(y_test, predictions))\n",
    "print(accuracy_score(y_test, predictions))\n",
    "print(classification_report(y_test, predictions))"
   ]
  },
  {
   "cell_type": "code",
   "execution_count": 95,
   "id": "405bc1ff",
   "metadata": {},
   "outputs": [
    {
     "name": "stdout",
     "output_type": "stream",
     "text": [
      "[[67 16]\n",
      " [11 56]]\n",
      "0.82\n",
      "              precision    recall  f1-score   support\n",
      "\n",
      "           0       0.86      0.81      0.83        83\n",
      "           1       0.78      0.84      0.81        67\n",
      "\n",
      "    accuracy                           0.82       150\n",
      "   macro avg       0.82      0.82      0.82       150\n",
      "weighted avg       0.82      0.82      0.82       150\n",
      "\n"
     ]
    }
   ],
   "source": [
    "k = 7\n",
    "\n",
    "model = KNN(k = k)\n",
    "model.fit(X_train , y_train)\n",
    "predictions = model.predict(X_test)\n",
    "\n",
    "print(confusion_matrix(y_test, predictions))\n",
    "print(accuracy_score(y_test, predictions))\n",
    "print(classification_report(y_test, predictions))"
   ]
  },
  {
   "cell_type": "code",
   "execution_count": 96,
   "id": "53d6d69a",
   "metadata": {},
   "outputs": [],
   "source": [
    "# so based on this, k = 7 gives us the highest accuracy score"
   ]
  },
  {
   "cell_type": "code",
   "execution_count": 97,
   "id": "73ede4b4",
   "metadata": {},
   "outputs": [
    {
     "name": "stdout",
     "output_type": "stream",
     "text": [
      "[[67 16]\n",
      " [11 56]]\n",
      "              precision    recall  f1-score   support\n",
      "\n",
      "           0       0.86      0.81      0.83        83\n",
      "           1       0.78      0.84      0.81        67\n",
      "\n",
      "    accuracy                           0.82       150\n",
      "   macro avg       0.82      0.82      0.82       150\n",
      "weighted avg       0.82      0.82      0.82       150\n",
      "\n",
      "accuracy: 0.82\n"
     ]
    }
   ],
   "source": [
    "# running data through pre-built sklearn function just to see how my formula compares\n",
    "\n",
    "from sklearn.neighbors import KNeighborsClassifier\n",
    "\n",
    "knn = KNeighborsClassifier(n_neighbors = 7, metric = \"euclidean\")\n",
    "knn.fit(X_train, y_train)\n",
    "predict = knn.predict(X_test)\n",
    "\n",
    "print(confusion_matrix(y_test, predict))\n",
    "print(classification_report(y_test, predict))\n",
    "accuracy1 = accuracy_score(y_test, predict)\n",
    "print(\"accuracy:\" , accuracy1)"
   ]
  },
  {
   "cell_type": "code",
   "execution_count": 104,
   "id": "3d575c45",
   "metadata": {},
   "outputs": [
    {
     "data": {
      "image/png": "[encoded data removed]",
      "text/plain": [
       "<Figure size 432x288 with 1 Axes>"
      ]
     },
     "metadata": {
      "needs_background": "light"
     },
     "output_type": "display_data"
    }
   ],
   "source": [
    "# since I had a wide range between my validation set and training set K's, Im going to do a quick cross validation score\n",
    "# using the pre-built sklearn function on the entire dataset just to see if the results are different (using 10 fold CV)\n",
    "\n",
    "cv = 10\n",
    "accuracies = []\n",
    "ks = range(1, 30)\n",
    "for k in ks:\n",
    "    model = KNeighborsClassifier(n_neighbors = k)\n",
    "    scores = cross_val_score(model , X , y, cv = cv, scoring = \"accuracy\")\n",
    "    accuracies.append(scores.max())\n",
    "    \n",
    "fig, ax = plt.subplots()\n",
    "ax.plot(ks, accuracies)\n",
    "ax.set(xlabel=\"KNN\",\n",
    "       ylabel=\"Cross-Val Accuracy\",\n",
    "       title=\"KNN Performance (Training Set)\")\n",
    "plt.show()"
   ]
  },
  {
   "cell_type": "code",
   "execution_count": 103,
   "id": "a0fde671",
   "metadata": {},
   "outputs": [],
   "source": [
    "# so based on this, optimal K varies across the entire data set and has a lower accuracy overall"
   ]
  }
 ],
 "metadata": {
  "kernelspec": {
   "display_name": "Python 3 (ipykernel)",
   "language": "python",
   "name": "python3"
  },
  "language_info": {
   "codemirror_mode": {
    "name": "ipython",
    "version": 3
   },
   "file_extension": ".py",
   "mimetype": "text/x-python",
   "name": "python",
   "nbconvert_exporter": "python",
   "pygments_lexer": "ipython3",
   "version": "3.9.7"
  }
 },
 "nbformat": 4,
 "nbformat_minor": 5
}
