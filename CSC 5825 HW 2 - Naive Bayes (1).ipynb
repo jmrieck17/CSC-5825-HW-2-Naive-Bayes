{
 "cells": [
  {
   "cell_type": "code",
   "execution_count": 79,
   "id": "e4993736",
   "metadata": {},
   "outputs": [],
   "source": [
    "# import library functions\n",
    "\n",
    "import pandas as pd\n",
    "import numpy as np\n",
    "from sklearn.preprocessing import StandardScaler\n",
    "\n",
    "from sklearn.model_selection import train_test_split\n",
    "from sklearn.metrics import accuracy_score, classification_report, confusion_matrix"
   ]
  },
  {
   "cell_type": "code",
   "execution_count": 80,
   "id": "3cca2ee2",
   "metadata": {},
   "outputs": [],
   "source": [
    "# import the .csv file into Python\n",
    "\n",
    "df = pd.read_csv (r'C:\\Users\\e135634\\OneDrive - Blue Cross Blue Shield of Michigan\\Desktop\\Test Folder\\heart.csv')"
   ]
  },
  {
   "cell_type": "code",
   "execution_count": 81,
   "id": "ab77e491",
   "metadata": {},
   "outputs": [
    {
     "data": {
      "text/html": [
       "<div>\n",
       "<style scoped>\n",
       "    .dataframe tbody tr th:only-of-type {\n",
       "        vertical-align: middle;\n",
       "    }\n",
       "\n",
       "    .dataframe tbody tr th {\n",
       "        vertical-align: top;\n",
       "    }\n",
       "\n",
       "    .dataframe thead th {\n",
       "        text-align: right;\n",
       "    }\n",
       "</style>\n",
       "<table border=\"1\" class=\"dataframe\">\n",
       "  <thead>\n",
       "    <tr style=\"text-align: right;\">\n",
       "      <th></th>\n",
       "      <th>Age</th>\n",
       "      <th>Sex</th>\n",
       "      <th>ChestPainType</th>\n",
       "      <th>RestingBP</th>\n",
       "      <th>Cholesterol</th>\n",
       "      <th>FastingBS</th>\n",
       "      <th>RestingECG</th>\n",
       "      <th>MaxHR</th>\n",
       "      <th>ExerciseAngina</th>\n",
       "      <th>Oldpeak</th>\n",
       "      <th>ST_Slope</th>\n",
       "      <th>HeartDisease</th>\n",
       "    </tr>\n",
       "  </thead>\n",
       "  <tbody>\n",
       "    <tr>\n",
       "      <th>0</th>\n",
       "      <td>40</td>\n",
       "      <td>M</td>\n",
       "      <td>ATA</td>\n",
       "      <td>140</td>\n",
       "      <td>289</td>\n",
       "      <td>0</td>\n",
       "      <td>Normal</td>\n",
       "      <td>172</td>\n",
       "      <td>N</td>\n",
       "      <td>0.0</td>\n",
       "      <td>Up</td>\n",
       "      <td>0</td>\n",
       "    </tr>\n",
       "    <tr>\n",
       "      <th>1</th>\n",
       "      <td>49</td>\n",
       "      <td>F</td>\n",
       "      <td>NAP</td>\n",
       "      <td>160</td>\n",
       "      <td>180</td>\n",
       "      <td>0</td>\n",
       "      <td>Normal</td>\n",
       "      <td>156</td>\n",
       "      <td>N</td>\n",
       "      <td>1.0</td>\n",
       "      <td>Flat</td>\n",
       "      <td>1</td>\n",
       "    </tr>\n",
       "    <tr>\n",
       "      <th>2</th>\n",
       "      <td>37</td>\n",
       "      <td>M</td>\n",
       "      <td>ATA</td>\n",
       "      <td>130</td>\n",
       "      <td>283</td>\n",
       "      <td>0</td>\n",
       "      <td>ST</td>\n",
       "      <td>98</td>\n",
       "      <td>N</td>\n",
       "      <td>0.0</td>\n",
       "      <td>Up</td>\n",
       "      <td>0</td>\n",
       "    </tr>\n",
       "    <tr>\n",
       "      <th>3</th>\n",
       "      <td>48</td>\n",
       "      <td>F</td>\n",
       "      <td>ASY</td>\n",
       "      <td>138</td>\n",
       "      <td>214</td>\n",
       "      <td>0</td>\n",
       "      <td>Normal</td>\n",
       "      <td>108</td>\n",
       "      <td>Y</td>\n",
       "      <td>1.5</td>\n",
       "      <td>Flat</td>\n",
       "      <td>1</td>\n",
       "    </tr>\n",
       "    <tr>\n",
       "      <th>4</th>\n",
       "      <td>54</td>\n",
       "      <td>M</td>\n",
       "      <td>NAP</td>\n",
       "      <td>150</td>\n",
       "      <td>195</td>\n",
       "      <td>0</td>\n",
       "      <td>Normal</td>\n",
       "      <td>122</td>\n",
       "      <td>N</td>\n",
       "      <td>0.0</td>\n",
       "      <td>Up</td>\n",
       "      <td>0</td>\n",
       "    </tr>\n",
       "  </tbody>\n",
       "</table>\n",
       "</div>"
      ],
      "text/plain": [
       "   Age Sex ChestPainType  RestingBP  Cholesterol  FastingBS RestingECG  MaxHR  \\\n",
       "0   40   M           ATA        140          289          0     Normal    172   \n",
       "1   49   F           NAP        160          180          0     Normal    156   \n",
       "2   37   M           ATA        130          283          0         ST     98   \n",
       "3   48   F           ASY        138          214          0     Normal    108   \n",
       "4   54   M           NAP        150          195          0     Normal    122   \n",
       "\n",
       "  ExerciseAngina  Oldpeak ST_Slope  HeartDisease  \n",
       "0              N      0.0       Up             0  \n",
       "1              N      1.0     Flat             1  \n",
       "2              N      0.0       Up             0  \n",
       "3              Y      1.5     Flat             1  \n",
       "4              N      0.0       Up             0  "
      ]
     },
     "execution_count": 81,
     "metadata": {},
     "output_type": "execute_result"
    }
   ],
   "source": [
    "df.head()"
   ]
  },
  {
   "cell_type": "code",
   "execution_count": 82,
   "id": "f767fa84",
   "metadata": {},
   "outputs": [
    {
     "name": "stdout",
     "output_type": "stream",
     "text": [
      "Sex: ['M' 'F']\n",
      "Exercise Angina: ['N' 'Y']\n",
      "Chest Pain Type: ['ATA' 'NAP' 'ASY' 'TA']\n",
      "Resting ECG: ['Normal' 'ST' 'LVH']\n",
      "ST Slope: ['Up' 'Flat' 'Down']\n"
     ]
    }
   ],
   "source": [
    "# from previous assignment, I know that this dataset has 11 variables and one binary classifier\n",
    "# of the 11 variables, there are 5 that are categorical and will need to be changed to numbers for the models to work\n",
    "\n",
    "print(\"Sex:\" , df['Sex'].unique())\n",
    "print(\"Exercise Angina:\" , df['ExerciseAngina'].unique())\n",
    "print(\"Chest Pain Type:\" , df['ChestPainType'].unique())\n",
    "print(\"Resting ECG:\" , df['RestingECG'].unique())\n",
    "print(\"ST Slope:\" , df['ST_Slope'].unique())"
   ]
  },
  {
   "cell_type": "code",
   "execution_count": 83,
   "id": "b4b1b3c8",
   "metadata": {},
   "outputs": [
    {
     "name": "stdout",
     "output_type": "stream",
     "text": [
      "1    508\n",
      "0    410\n",
      "Name: HeartDisease, dtype: int64\n"
     ]
    }
   ],
   "source": [
    "# getting a quick count of classifier column (1 = Yes, 0 = No)\n",
    "\n",
    "print(df['HeartDisease'].value_counts())"
   ]
  },
  {
   "cell_type": "code",
   "execution_count": 84,
   "id": "e0c86a55",
   "metadata": {},
   "outputs": [],
   "source": [
    "# as before, I will convert these columns into dummy variables\n",
    "\n",
    "df_dummies = pd.get_dummies(df, columns = ['Sex' , 'ExerciseAngina' , 'ChestPainType' , 'RestingECG' , 'ST_Slope'])\n",
    "df_dummies = df_dummies.reindex(columns = [col for col in df_dummies.columns if col != 'HeartDisease'] + ['HeartDisease'])"
   ]
  },
  {
   "cell_type": "code",
   "execution_count": 85,
   "id": "392b5ffd",
   "metadata": {},
   "outputs": [],
   "source": [
    "df = df_dummies.astype({\"Age\" : 'float' , \"RestingBP\" : 'float' ,\"Cholesterol\" : 'float' ,\"FastingBS\" : 'float' ,\n",
    "                                \"MaxHR\" : 'float' ,\"Sex_F\" : 'float' ,\"Sex_M\" : 'float' ,\"ExerciseAngina_N\" : 'float' ,\n",
    "                                \"ExerciseAngina_Y\" : 'float' ,\"ChestPainType_ASY\" : 'float' ,\"ChestPainType_ATA\" : 'float' ,\n",
    "                                \"ChestPainType_NAP\" : 'float' ,\"ChestPainType_TA\" : 'float' ,\"RestingECG_LVH\" : 'float' ,\n",
    "                                \"RestingECG_Normal\" : 'float' ,\"RestingECG_ST\" : 'float' ,\"ST_Slope_Down\" : 'float' ,\n",
    "                                \"ST_Slope_Flat\" : 'float' ,\"ST_Slope_Up\" : 'float',\"HeartDisease\" : 'int'})"
   ]
  },
  {
   "cell_type": "code",
   "execution_count": 86,
   "id": "71e185e0",
   "metadata": {},
   "outputs": [
    {
     "data": {
      "text/plain": [
       "(746, 21)"
      ]
     },
     "execution_count": 86,
     "metadata": {},
     "output_type": "execute_result"
    }
   ],
   "source": [
    "# Noticed that several patients have incomplete data in Cholestrol- filtering out those incomplete records\n",
    "\n",
    "df = df[df.Cholesterol > 0]\n",
    "df.shape"
   ]
  },
  {
   "cell_type": "code",
   "execution_count": 74,
   "id": "841d5a18",
   "metadata": {},
   "outputs": [
    {
     "name": "stdout",
     "output_type": "stream",
     "text": [
      "Age                  float64\n",
      "RestingBP            float64\n",
      "Cholesterol          float64\n",
      "FastingBS            float64\n",
      "MaxHR                float64\n",
      "Oldpeak              float64\n",
      "Sex_F                float64\n",
      "Sex_M                float64\n",
      "ExerciseAngina_N     float64\n",
      "ExerciseAngina_Y     float64\n",
      "ChestPainType_ASY    float64\n",
      "ChestPainType_ATA    float64\n",
      "ChestPainType_NAP    float64\n",
      "ChestPainType_TA     float64\n",
      "RestingECG_LVH       float64\n",
      "RestingECG_Normal    float64\n",
      "RestingECG_ST        float64\n",
      "ST_Slope_Down        float64\n",
      "ST_Slope_Flat        float64\n",
      "ST_Slope_Up          float64\n",
      "HeartDisease           int32\n",
      "dtype: object\n"
     ]
    }
   ],
   "source": [
    "print(df.dtypes)"
   ]
  },
  {
   "cell_type": "code",
   "execution_count": 87,
   "id": "c7d8f401",
   "metadata": {},
   "outputs": [],
   "source": [
    "# Adding a 8-2 split of the data into training and testing sets\n",
    "\n",
    "X = df.iloc[:, :-1]\n",
    "y = df.iloc[: , -1]\n",
    "\n",
    "X_train,X_test,y_train,y_test = train_test_split(X,y,test_size=0.2)"
   ]
  },
  {
   "cell_type": "code",
   "execution_count": 96,
   "id": "b723906b",
   "metadata": {},
   "outputs": [],
   "source": [
    "# Had to add in a scaler to my training and testing varioables to get function to work\n",
    "\n",
    "scaler = StandardScaler()\n",
    "X_train = scaler.fit_transform(X_train)\n",
    "X_test = scaler.fit_transform(X_test)"
   ]
  },
  {
   "cell_type": "code",
   "execution_count": 97,
   "id": "09084898",
   "metadata": {},
   "outputs": [],
   "source": [
    "# creating custon Naive Bayes algorythm from scratch using class function for modeling\n",
    "\n",
    "class Naive_Bayes:\n",
    "    \n",
    "    def fit(self, X, y):\n",
    "        n_samples, n_features = X.shape\n",
    "        self._classes = np.unique(y)\n",
    "        n_classes = len(self._classes)\n",
    "\n",
    "        # calculate mean, var, and prior for each class\n",
    "        self._mean = np.zeros((n_classes, n_features), dtype=np.float64)\n",
    "        self._var = np.zeros((n_classes, n_features), dtype=np.float64)\n",
    "        self._priors = np.zeros(n_classes, dtype=np.float64)\n",
    "\n",
    "        for idx, c in enumerate(self._classes):\n",
    "            X_c = X[y == c]\n",
    "            self._mean[idx, :] = X_c.mean(axis=0)\n",
    "            self._var[idx, :] = X_c.var(axis=0)\n",
    "            self._priors[idx] = X_c.shape[0] / float(n_samples)\n",
    "\n",
    "    def predict(self, X):\n",
    "        y_pred = [self._predict(x) for x in X]\n",
    "        return np.array(y_pred)\n",
    "\n",
    "    def _predict(self, x):\n",
    "        posteriors = []\n",
    "\n",
    "        # calculate posterior probability for each class\n",
    "        for idx, c in enumerate(self._classes):\n",
    "            prior = np.log(self._priors[idx])\n",
    "            posterior = np.sum(np.log(self._pdf(idx, x)))\n",
    "            posterior = prior + posterior\n",
    "            posteriors.append(posterior)\n",
    "\n",
    "        # return class with highest posterior probability\n",
    "        return self._classes[np.argmax(posteriors)]\n",
    "\n",
    "    def _pdf(self, class_idx, x):\n",
    "        mean = self._mean[class_idx]\n",
    "        var = self._var[class_idx]\n",
    "        numerator = np.exp(-((x - mean) ** 2) / (2 * var))\n",
    "        denominator = np.sqrt(2 * np.pi * var)\n",
    "        return numerator / denominator"
   ]
  },
  {
   "cell_type": "code",
   "execution_count": 98,
   "id": "9015770d",
   "metadata": {},
   "outputs": [],
   "source": [
    "# Evaluate the model generated above\n",
    "\n",
    "model = Naive_Bayes()\n",
    "model.fit(X_train, y_train)\n",
    "predictions = model.predict(X_test)"
   ]
  },
  {
   "cell_type": "code",
   "execution_count": 99,
   "id": "faef0e3b",
   "metadata": {},
   "outputs": [
    {
     "name": "stdout",
     "output_type": "stream",
     "text": [
      "[[71 14]\n",
      " [ 7 58]]\n",
      "0.86\n",
      "              precision    recall  f1-score   support\n",
      "\n",
      "           0       0.91      0.84      0.87        85\n",
      "           1       0.81      0.89      0.85        65\n",
      "\n",
      "    accuracy                           0.86       150\n",
      "   macro avg       0.86      0.86      0.86       150\n",
      "weighted avg       0.86      0.86      0.86       150\n",
      "\n"
     ]
    }
   ],
   "source": [
    "print(confusion_matrix(y_test, predictions))\n",
    "print(accuracy_score(y_test, predictions))\n",
    "print(classification_report(y_test, predictions))"
   ]
  },
  {
   "cell_type": "code",
   "execution_count": 100,
   "id": "5ee97d2a",
   "metadata": {},
   "outputs": [
    {
     "name": "stdout",
     "output_type": "stream",
     "text": [
      "[[71 14]\n",
      " [ 7 58]]\n",
      "              precision    recall  f1-score   support\n",
      "\n",
      "           0       0.91      0.84      0.87        85\n",
      "           1       0.81      0.89      0.85        65\n",
      "\n",
      "    accuracy                           0.86       150\n",
      "   macro avg       0.86      0.86      0.86       150\n",
      "weighted avg       0.86      0.86      0.86       150\n",
      "\n",
      "accuracy: 0.86\n"
     ]
    }
   ],
   "source": [
    "# running data through pre-built sklearn function just to see how my formula compares\n",
    "\n",
    "from sklearn.naive_bayes import GaussianNB\n",
    "\n",
    "gnb = GaussianNB()\n",
    "gnb.fit(X_train , y_train)\n",
    "predict = gnb.predict(X_test)\n",
    "\n",
    "print(confusion_matrix(y_test, predict))\n",
    "print(classification_report(y_test, predict))\n",
    "accuracy1 = accuracy_score(y_test, predict)\n",
    "print(\"accuracy:\" , accuracy1)"
   ]
  },
  {
   "cell_type": "code",
   "execution_count": null,
   "id": "76550397",
   "metadata": {},
   "outputs": [],
   "source": []
  },
  {
   "cell_type": "code",
   "execution_count": null,
   "id": "bd0a65e9",
   "metadata": {},
   "outputs": [],
   "source": []
  }
 ],
 "metadata": {
  "kernelspec": {
   "display_name": "Python 3 (ipykernel)",
   "language": "python",
   "name": "python3"
  },
  "language_info": {
   "codemirror_mode": {
    "name": "ipython",
    "version": 3
   },
   "file_extension": ".py",
   "mimetype": "text/x-python",
   "name": "python",
   "nbconvert_exporter": "python",
   "pygments_lexer": "ipython3",
   "version": "3.9.7"
  }
 },
 "nbformat": 4,
 "nbformat_minor": 5
}
